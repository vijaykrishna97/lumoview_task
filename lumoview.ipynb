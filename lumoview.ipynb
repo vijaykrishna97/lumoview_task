{
  "nbformat": 4,
  "nbformat_minor": 0,
  "metadata": {
    "colab": {
      "provenance": []
    },
    "kernelspec": {
      "name": "python3",
      "display_name": "Python 3"
    },
    "language_info": {
      "name": "python"
    },
    "gpuClass": "standard"
  },
  "cells": [
    {
      "cell_type": "code",
      "execution_count": 1,
      "metadata": {
        "id": "iAx4WtqzEumb"
      },
      "outputs": [],
      "source": [
        "import cv2\n",
        "import os\n",
        "\n"
      ]
    },
    {
      "cell_type": "code",
      "source": [
        "# Load the image\n",
        "img = cv2.imread('lumoview1.jpg')\n",
        "\n",
        "# Convert the image to grayscale\n",
        "gray = cv2.cvtColor(img, cv2.COLOR_BGR2GRAY)\n",
        "\n",
        "# Load the pre-trained face detection classifier\n",
        "face_cascade = cv2.CascadeClassifier(cv2.data.haarcascades + 'haarcascade_frontalface_default.xml')\n",
        "\n",
        "# Detect faces in the image\n",
        "faces = face_cascade.detectMultiScale(gray, scaleFactor=1.3, minNeighbors=5)\n",
        "\n",
        "# Blur the detected faces\n",
        "for (x, y, w, h) in faces:\n",
        "    # Extract the face ROI\n",
        "    face_roi = img[y:y+h, x:x+w]\n",
        "    \n",
        "    # Apply Gaussian blur to the face ROI\n",
        "    blurred_face = cv2.GaussianBlur(face_roi, (101,101), 0)\n",
        "    \n",
        "    # Replace the original face with the blurred face\n",
        "    img[y:y+h, x:x+w] = blurred_face\n",
        "\n",
        "# Save the blurred image\n",
        "cv2.imwrite('lumoview_blurred1.jpg', img)\n"
      ],
      "metadata": {
        "colab": {
          "base_uri": "https://localhost:8080/"
        },
        "id": "Sz3rAOC7FRDH",
        "outputId": "d755ce51-998b-4e28-9327-c06e574a15b3"
      },
      "execution_count": 18,
      "outputs": [
        {
          "output_type": "execute_result",
          "data": {
            "text/plain": [
              "True"
            ]
          },
          "metadata": {},
          "execution_count": 18
        }
      ]
    }
  ]
}